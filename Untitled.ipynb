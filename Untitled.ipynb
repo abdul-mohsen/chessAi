{
 "cells": [
  {
   "cell_type": "code",
   "execution_count": 30,
   "id": "c16ca82e",
   "metadata": {},
   "outputs": [],
   "source": [
    "import chess\n",
    "import chess.svg\n",
    "import numpy as np"
   ]
  },
  {
   "cell_type": "code",
   "execution_count": 2,
   "id": "5bb33bef",
   "metadata": {},
   "outputs": [],
   "source": [
    "board = chess.Board()\n"
   ]
  },
  {
   "cell_type": "code",
   "execution_count": 34,
   "id": "9237a770",
   "metadata": {},
   "outputs": [
    {
     "name": "stdout",
     "output_type": "stream",
     "text": [
      "g1h3\n",
      "g1f3\n",
      "b1c3\n",
      "b1a3\n",
      "h2h3\n",
      "g2g3\n",
      "f2f3\n",
      "e2e3\n",
      "d2d3\n",
      "c2c3\n",
      "b2b3\n",
      "a2a3\n",
      "h2h4\n",
      "g2g4\n",
      "f2f4\n",
      "e2e4\n",
      "d2d4\n",
      "c2c4\n",
      "b2b4\n",
      "a2a4\n"
     ]
    }
   ],
   "source": [
    "for i in board.legal_moves:\n",
    "    print(i)"
   ]
  },
  {
   "cell_type": "code",
   "execution_count": null,
   "id": "21eb3710",
   "metadata": {},
   "outputs": [],
   "source": [
    "\n",
    "while(board.outcome() is not None):\n",
    "\n",
    "game_over(board.outcome())"
   ]
  },
  {
   "cell_type": "code",
   "execution_count": 26,
   "id": "92bf3b92",
   "metadata": {},
   "outputs": [
    {
     "data": {
      "text/plain": [
       "0.0"
      ]
     },
     "execution_count": 26,
     "metadata": {},
     "output_type": "execute_result"
    }
   ],
   "source": []
  },
  {
   "cell_type": "code",
   "execution_count": 27,
   "id": "85a9e6ee",
   "metadata": {},
   "outputs": [],
   "source": [
    "def heuristic_chess(board):\n",
    "    outcome = board.outcome()\n",
    "    if(outcome is not None):\n",
    "        return game_over(outcome)\n",
    "    else:\n",
    "        pawn = len(board.pieces(chess.PAWN,chess.WHITE)) - len(board.pieces(chess.PAWN,chess.BLACK))\n",
    "        knight = len(board.pieces(chess.KNIGHT,chess.WHITE)) - len(board.pieces(chess.KNIGHT,chess.BLACK))\n",
    "        bishop = len(board.pieces(chess.BISHOP,chess.WHITE)) - len(board.pieces(chess.BISHOP,chess.BLACK))\n",
    "        rook = len(board.pieces(chess.ROOK,chess.WHITE)) - len(board.pieces(chess.ROOK,chess.BLACK))\n",
    "        queen = len(board.pieces(chess.QUEEN,chess.WHITE)) - len(board.pieces(chess.QUEEN,chess.BLACK))\n",
    "        return (pawn + 3 * knight + 4 * bishop + 5 * rook + 9 * queen)/100.0\n",
    "        \n"
   ]
  },
  {
   "cell_type": "code",
   "execution_count": 28,
   "id": "cfd731e6",
   "metadata": {},
   "outputs": [],
   "source": [
    "def game_over(outcome):\n",
    "    winner = outcome.winner # True for WHITE player and False for BLACK player\n",
    "    termination = outcome.termination\n",
    "    if termination == chess.Termination.CHECKMATE:\n",
    "        if winner:\n",
    "            print('White player has won')\n",
    "            return 1\n",
    "        else:\n",
    "            print('Black player has won')\n",
    "            return -1\n",
    "    else: # for other outcomes, the game is drawn\n",
    "        print('the game is draw')\n",
    "        return 0"
   ]
  },
  {
   "cell_type": "code",
   "execution_count": 29,
   "id": "f0903a6e",
   "metadata": {},
   "outputs": [],
   "source": [
    "def is_cutoff(board, current_depth, depth_limit=2):\n",
    "    return (board.outcome is not None) or (current_depth == depth_limit)"
   ]
  },
  {
   "cell_type": "code",
   "execution_count": null,
   "id": "50b2dd21",
   "metadata": {},
   "outputs": [],
   "source": [
    "def h_minimax(board, depth_limit=2):\n",
    "    "
   ]
  },
  {
   "cell_type": "code",
   "execution_count": 36,
   "id": "64839b03",
   "metadata": {},
   "outputs": [],
   "source": [
    "def max_node(board, current_depth, depth_limit):\n",
    "    maxScore = -np.infty\n",
    "    bestMove = None\n",
    "    if is_cutoff(board, current_depth, depth_limit):\n",
    "        return heuristic_chess(board), None\n",
    "    for move in board.legal_moves:\n",
    "        board.push(move)\n",
    "        score,_ = min_node(board, current_depth, depth_limit)\n",
    "        board.pop()\n",
    "        if (score > maxScore):\n",
    "            maxScore = score\n",
    "            bestMove = move\n",
    "    return bestScore, bestMove\n",
    "        "
   ]
  },
  {
   "cell_type": "code",
   "execution_count": 37,
   "id": "460a5862",
   "metadata": {},
   "outputs": [],
   "source": [
    "def min_node(board, current_depth, depth_limit):\n",
    "    minScore = np.infty\n",
    "    minMove = None\n",
    "    if is_cutoff(board, current_depth, depth_limit):\n",
    "        return heuristic_chess(board), None\n",
    "    for move in board.legal_moves:\n",
    "        board.push(move)\n",
    "        score,_ = max_node(board, current_depth, depth_limit)\n",
    "        board.pop()\n",
    "        if (score < minScore):\n",
    "            minScore = score\n",
    "            minMove = move\n",
    "    return minScore, minMove"
   ]
  },
  {
   "cell_type": "code",
   "execution_count": null,
   "id": "e2aca96e",
   "metadata": {},
   "outputs": [],
   "source": []
  },
  {
   "cell_type": "code",
   "execution_count": 38,
   "id": "97445fc5",
   "metadata": {},
   "outputs": [],
   "source": [
    "def max_node2(board, current_depth, depth_limit, a, b):\n",
    "    maxScore = -np.infty\n",
    "    bestMove = None\n",
    "    if is_cutoff(board, current_depth, depth_limit):\n",
    "        return heuristic_chess(board), None\n",
    "    for move in board.legal_moves:\n",
    "        board.push(move)\n",
    "        score,_ = min_node2(board, current_depth, depth_limit, a, b)\n",
    "        board.pop()\n",
    "        if (score > maxScore):\n",
    "            maxScore = score\n",
    "            bestMove = move\n",
    "            a = max(score, a)\n",
    "        if (maxScore >= b):\n",
    "            return maxScore, bestMove\n",
    "    return maxScore, bestMove"
   ]
  },
  {
   "cell_type": "code",
   "execution_count": 39,
   "id": "1c38bfae",
   "metadata": {},
   "outputs": [],
   "source": [
    "def min_node2(board, current_depth, depth_limit):\n",
    "    minScore = np.infty\n",
    "    minMove = None\n",
    "    if is_cutoff(board, current_depth, depth_limit):\n",
    "        return heuristic_chess(board), None\n",
    "    for move in board.legal_moves:\n",
    "        board.push(move)\n",
    "        score,_ = max_node2(board, current_depth, depth_limit, a, b)\n",
    "        board.pop()\n",
    "        if (score < minScore):\n",
    "            minScore = score\n",
    "            minMove = move\n",
    "            b = min(b, minMove)\n",
    "        if (minScore <= a):\n",
    "            return minScore, minMove\n",
    "            \n",
    "    return minScore, minMove"
   ]
  },
  {
   "cell_type": "code",
   "execution_count": null,
   "id": "31cd193a",
   "metadata": {},
   "outputs": [],
   "source": []
  }
 ],
 "metadata": {
  "kernelspec": {
   "display_name": "Python 3 (ipykernel)",
   "language": "python",
   "name": "python3"
  },
  "language_info": {
   "codemirror_mode": {
    "name": "ipython",
    "version": 3
   },
   "file_extension": ".py",
   "mimetype": "text/x-python",
   "name": "python",
   "nbconvert_exporter": "python",
   "pygments_lexer": "ipython3",
   "version": "3.9.12"
  }
 },
 "nbformat": 4,
 "nbformat_minor": 5
}
